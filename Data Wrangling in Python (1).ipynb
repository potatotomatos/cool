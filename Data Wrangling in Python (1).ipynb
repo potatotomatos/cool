{
 "cells": [
  {
   "cell_type": "code",
   "execution_count": 17,
   "id": "5cb7597e-767d-4bd2-afb2-0f1d3b42a689",
   "metadata": {},
   "outputs": [],
   "source": [
    "import pandas as pd"
   ]
  },
  {
   "cell_type": "code",
   "execution_count": 18,
   "id": "72a78f59-e042-4012-b0a5-4863f0430bb9",
   "metadata": {},
   "outputs": [],
   "source": [
    "# Load the dataset\n",
    "df = pd.read_csv('C:/Users/Admin/OneDrive/Documents/netflix_titles.csv')"
   ]
  },
  {
   "cell_type": "code",
   "execution_count": 19,
   "id": "5e74a8ef-b4cb-4fc1-9ac7-7414e7358643",
   "metadata": {},
   "outputs": [
    {
     "name": "stdout",
     "output_type": "stream",
     "text": [
      "Initial Data Preview:\n",
      "     show_id     type                                    title  \\\n",
      "0  81145628    Movie  Norm of the North: King Sized Adventure   \n",
      "1  80117401    Movie               Jandino: Whatever it Takes   \n",
      "2  70234439  TV Show                       Transformers Prime   \n",
      "3  80058654  TV Show         Transformers: Robots in Disguise   \n",
      "4  80125979    Movie                             #realityhigh   \n",
      "\n",
      "                   director  \\\n",
      "0  Richard Finn, Tim Maltby   \n",
      "1                       NaN   \n",
      "2                       NaN   \n",
      "3                       NaN   \n",
      "4          Fernando Lebrija   \n",
      "\n",
      "                                                cast  \\\n",
      "0  Alan Marriott, Andrew Toth, Brian Dobson, Cole...   \n",
      "1                                   Jandino Asporaat   \n",
      "2  Peter Cullen, Sumalee Montano, Frank Welker, J...   \n",
      "3  Will Friedle, Darren Criss, Constance Zimmer, ...   \n",
      "4  Nesta Cooper, Kate Walsh, John Michael Higgins...   \n",
      "\n",
      "                                    country         date_added  release_year  \\\n",
      "0  United States, India, South Korea, China  September 9, 2019          2019   \n",
      "1                            United Kingdom  September 9, 2016          2016   \n",
      "2                             United States  September 8, 2018          2013   \n",
      "3                             United States  September 8, 2018          2016   \n",
      "4                             United States  September 8, 2017          2017   \n",
      "\n",
      "     rating  duration                           listed_in  \\\n",
      "0     TV-PG    90 min  Children & Family Movies, Comedies   \n",
      "1     TV-MA    94 min                     Stand-Up Comedy   \n",
      "2  TV-Y7-FV  1 Season                            Kids' TV   \n",
      "3     TV-Y7  1 Season                            Kids' TV   \n",
      "4     TV-14    99 min                            Comedies   \n",
      "\n",
      "                                         description  \n",
      "0  Before planning an awesome wedding for his gra...  \n",
      "1  Jandino Asporaat riffs on the challenges of ra...  \n",
      "2  With the help of three human allies, the Autob...  \n",
      "3  When a prison ship crash unleashes hundreds of...  \n",
      "4  When nerdy high schooler Dani finally attracts...  \n"
     ]
    }
   ],
   "source": [
    "# Step 1: Preview the data\n",
    "print(\"Initial Data Preview:\\n\", df.head())\n"
   ]
  },
  {
   "cell_type": "code",
   "execution_count": 20,
   "id": "340b6d1f-4a8e-4b57-9301-e0585181d6ec",
   "metadata": {},
   "outputs": [
    {
     "name": "stdout",
     "output_type": "stream",
     "text": [
      "\n",
      "Filtered TV Shows:\n",
      "      show_id     type                             title director  \\\n",
      "2   70234439  TV Show                Transformers Prime      NaN   \n",
      "3   80058654  TV Show  Transformers: Robots in Disguise      NaN   \n",
      "5   80163890  TV Show                           Apaches      NaN   \n",
      "8   80117902  TV Show                      Fire Chasers      NaN   \n",
      "26  80244601  TV Show                   Castle of Stars      NaN   \n",
      "\n",
      "                                                 cast        country  \\\n",
      "2   Peter Cullen, Sumalee Montano, Frank Welker, J...  United States   \n",
      "3   Will Friedle, Darren Criss, Constance Zimmer, ...  United States   \n",
      "5   Alberto Ammann, Eloy Azorín, Verónica Echegui,...          Spain   \n",
      "8                                                 NaN  United States   \n",
      "26  Chaiyapol Pupart, Jintanutda Lummakanon, Worra...            NaN   \n",
      "\n",
      "           date_added  release_year    rating  duration  \\\n",
      "2   September 8, 2018          2013  TV-Y7-FV  1 Season   \n",
      "3   September 8, 2018          2016     TV-Y7  1 Season   \n",
      "5   September 8, 2017          2016     TV-MA  1 Season   \n",
      "8   September 8, 2017          2017     TV-MA  1 Season   \n",
      "26  September 7, 2018          2015     TV-14  1 Season   \n",
      "\n",
      "                                            listed_in  \\\n",
      "2                                            Kids' TV   \n",
      "3                                            Kids' TV   \n",
      "5   Crime TV Shows, International TV Shows, Spanis...   \n",
      "8                     Docuseries, Science & Nature TV   \n",
      "26  International TV Shows, Romantic TV Shows, TV ...   \n",
      "\n",
      "                                          description  \n",
      "2   With the help of three human allies, the Autob...  \n",
      "3   When a prison ship crash unleashes hundreds of...  \n",
      "5   A young journalist is forced into a life of cr...  \n",
      "8   As California's 2016 fire season rages, brave ...  \n",
      "26  As four couples with different lifestyles go t...  \n"
     ]
    }
   ],
   "source": [
    "# Step 2: Filter data (only TV Shows)\n",
    "tv_shows = df[df['type'] == 'TV Show']\n",
    "print(\"\\nFiltered TV Shows:\\n\", tv_shows.head())"
   ]
  },
  {
   "cell_type": "code",
   "execution_count": 21,
   "id": "2343de70-2c8b-457d-8a5f-09c0420f022c",
   "metadata": {},
   "outputs": [
    {
     "name": "stderr",
     "output_type": "stream",
     "text": [
      "C:\\Users\\Admin\\AppData\\Local\\Temp\\ipykernel_10696\\500169022.py:2: FutureWarning: A value is trying to be set on a copy of a DataFrame or Series through chained assignment using an inplace method.\n",
      "The behavior will change in pandas 3.0. This inplace method will never work because the intermediate object on which we are setting values always behaves as a copy.\n",
      "\n",
      "For example, when doing 'df[col].method(value, inplace=True)', try using 'df.method({col: value}, inplace=True)' or df[col] = df[col].method(value) instead, to perform the operation inplace on the original object.\n",
      "\n",
      "\n",
      "  tv_shows['country'].fillna('Unknown', inplace=True)\n",
      "C:\\Users\\Admin\\AppData\\Local\\Temp\\ipykernel_10696\\500169022.py:2: SettingWithCopyWarning: \n",
      "A value is trying to be set on a copy of a slice from a DataFrame\n",
      "\n",
      "See the caveats in the documentation: https://pandas.pydata.org/pandas-docs/stable/user_guide/indexing.html#returning-a-view-versus-a-copy\n",
      "  tv_shows['country'].fillna('Unknown', inplace=True)\n",
      "C:\\Users\\Admin\\AppData\\Local\\Temp\\ipykernel_10696\\500169022.py:3: FutureWarning: A value is trying to be set on a copy of a DataFrame or Series through chained assignment using an inplace method.\n",
      "The behavior will change in pandas 3.0. This inplace method will never work because the intermediate object on which we are setting values always behaves as a copy.\n",
      "\n",
      "For example, when doing 'df[col].method(value, inplace=True)', try using 'df.method({col: value}, inplace=True)' or df[col] = df[col].method(value) instead, to perform the operation inplace on the original object.\n",
      "\n",
      "\n",
      "  tv_shows['rating'].fillna('Not Rated', inplace=True)\n",
      "C:\\Users\\Admin\\AppData\\Local\\Temp\\ipykernel_10696\\500169022.py:3: SettingWithCopyWarning: \n",
      "A value is trying to be set on a copy of a slice from a DataFrame\n",
      "\n",
      "See the caveats in the documentation: https://pandas.pydata.org/pandas-docs/stable/user_guide/indexing.html#returning-a-view-versus-a-copy\n",
      "  tv_shows['rating'].fillna('Not Rated', inplace=True)\n"
     ]
    }
   ],
   "source": [
    "# Step 3: Handle missing values (fill or drop)\n",
    "tv_shows['country'].fillna('Unknown', inplace=True)\n",
    "tv_shows['rating'].fillna('Not Rated', inplace=True)"
   ]
  },
  {
   "cell_type": "code",
   "execution_count": 22,
   "id": "a07289c8-f9e3-4266-a22a-b1cae5d01393",
   "metadata": {},
   "outputs": [
    {
     "name": "stderr",
     "output_type": "stream",
     "text": [
      "C:\\Users\\Admin\\AppData\\Local\\Temp\\ipykernel_10696\\4091411095.py:2: SettingWithCopyWarning: \n",
      "A value is trying to be set on a copy of a slice from a DataFrame.\n",
      "Try using .loc[row_indexer,col_indexer] = value instead\n",
      "\n",
      "See the caveats in the documentation: https://pandas.pydata.org/pandas-docs/stable/user_guide/indexing.html#returning-a-view-versus-a-copy\n",
      "  tv_shows['date_added'] = tv_shows['date_added'].str.strip()\n",
      "C:\\Users\\Admin\\AppData\\Local\\Temp\\ipykernel_10696\\4091411095.py:3: SettingWithCopyWarning: \n",
      "A value is trying to be set on a copy of a slice from a DataFrame.\n",
      "Try using .loc[row_indexer,col_indexer] = value instead\n",
      "\n",
      "See the caveats in the documentation: https://pandas.pydata.org/pandas-docs/stable/user_guide/indexing.html#returning-a-view-versus-a-copy\n",
      "  tv_shows['date_added'] = pd.to_datetime(tv_shows['date_added'], errors='coerce')\n",
      "C:\\Users\\Admin\\AppData\\Local\\Temp\\ipykernel_10696\\4091411095.py:4: SettingWithCopyWarning: \n",
      "A value is trying to be set on a copy of a slice from a DataFrame.\n",
      "Try using .loc[row_indexer,col_indexer] = value instead\n",
      "\n",
      "See the caveats in the documentation: https://pandas.pydata.org/pandas-docs/stable/user_guide/indexing.html#returning-a-view-versus-a-copy\n",
      "  tv_shows['year_added'] = tv_shows['date_added'].dt.year\n"
     ]
    }
   ],
   "source": [
    "# Step: Clean and Convert 'date_added'\n",
    "tv_shows['date_added'] = tv_shows['date_added'].str.strip()\n",
    "tv_shows['date_added'] = pd.to_datetime(tv_shows['date_added'], errors='coerce')\n",
    "tv_shows['year_added'] = tv_shows['date_added'].dt.year\n"
   ]
  },
  {
   "cell_type": "code",
   "execution_count": 23,
   "id": "aecb8fe5-479b-438f-a617-d6e206e6c0da",
   "metadata": {},
   "outputs": [
    {
     "name": "stderr",
     "output_type": "stream",
     "text": [
      "C:\\Users\\Admin\\AppData\\Local\\Temp\\ipykernel_10696\\973825724.py:2: SettingWithCopyWarning: \n",
      "A value is trying to be set on a copy of a slice from a DataFrame.\n",
      "Try using .loc[row_indexer,col_indexer] = value instead\n",
      "\n",
      "See the caveats in the documentation: https://pandas.pydata.org/pandas-docs/stable/user_guide/indexing.html#returning-a-view-versus-a-copy\n",
      "  tv_shows['genre_list'] = tv_shows['listed_in'].apply(lambda x: [genre.strip() for genre in x.split(',')])\n"
     ]
    }
   ],
   "source": [
    "# Step 5: Split genres into lists\n",
    "tv_shows['genre_list'] = tv_shows['listed_in'].apply(lambda x: [genre.strip() for genre in x.split(',')])\n"
   ]
  },
  {
   "cell_type": "code",
   "execution_count": 24,
   "id": "d4ff791b-6eb0-4b20-afe8-1ab7a04e50c7",
   "metadata": {},
   "outputs": [
    {
     "name": "stdout",
     "output_type": "stream",
     "text": [
      "\n",
      "Top Countries Producing TV Shows:\n",
      "           country  count\n",
      "0   United States    550\n",
      "1         Unknown    281\n",
      "2  United Kingdom    178\n",
      "3           Japan    129\n",
      "4     South Korea    104\n"
     ]
    }
   ],
   "source": [
    "# Step 6: Group by country and count\n",
    "country_count = tv_shows['country'].value_counts().reset_index()\n",
    "country_count.columns = ['country', 'count']\n",
    "print(\"\\nTop Countries Producing TV Shows:\\n\", country_count.head())"
   ]
  },
  {
   "cell_type": "code",
   "execution_count": 25,
   "id": "f4d4a5bc-25f2-45b6-946d-020926d5c236",
   "metadata": {},
   "outputs": [],
   "source": [
    "# Step 7: Merge with original data (example)\n",
    "merged_data = pd.merge(tv_shows, country_count, on='country')"
   ]
  },
  {
   "cell_type": "code",
   "execution_count": 26,
   "id": "7a43d4e0-ea94-486d-b963-ce9021f12839",
   "metadata": {},
   "outputs": [
    {
     "name": "stdout",
     "output_type": "stream",
     "text": [
      "\n",
      "Merged Data Sample:\n",
      "                               title        country  count\n",
      "0                Transformers Prime  United States    550\n",
      "1  Transformers: Robots in Disguise  United States    550\n",
      "2                           Apaches          Spain     37\n",
      "3                      Fire Chasers  United States    550\n",
      "4                   Castle of Stars        Unknown    281\n"
     ]
    }
   ],
   "source": [
    "# Step 8: Final data preview\n",
    "print(\"\\nMerged Data Sample:\\n\", merged_data[['title', 'country', 'count']].head())"
   ]
  },
  {
   "cell_type": "code",
   "execution_count": null,
   "id": "c43d8eb1-d1ad-4afb-93ad-de3c7e69b491",
   "metadata": {},
   "outputs": [],
   "source": []
  },
  {
   "cell_type": "code",
   "execution_count": null,
   "id": "278f3e7f-01e0-4000-b2b4-646aaeb715ae",
   "metadata": {},
   "outputs": [],
   "source": []
  },
  {
   "cell_type": "code",
   "execution_count": null,
   "id": "b7db83e5-4466-48cd-bf9f-ff632abce480",
   "metadata": {},
   "outputs": [],
   "source": []
  },
  {
   "cell_type": "code",
   "execution_count": null,
   "id": "0123a740-9074-4260-8908-9d7753ca76a0",
   "metadata": {},
   "outputs": [],
   "source": []
  }
 ],
 "metadata": {
  "kernelspec": {
   "display_name": "Python 3 (ipykernel)",
   "language": "python",
   "name": "python3"
  },
  "language_info": {
   "codemirror_mode": {
    "name": "ipython",
    "version": 3
   },
   "file_extension": ".py",
   "mimetype": "text/x-python",
   "name": "python",
   "nbconvert_exporter": "python",
   "pygments_lexer": "ipython3",
   "version": "3.13.0"
  }
 },
 "nbformat": 4,
 "nbformat_minor": 5
}
