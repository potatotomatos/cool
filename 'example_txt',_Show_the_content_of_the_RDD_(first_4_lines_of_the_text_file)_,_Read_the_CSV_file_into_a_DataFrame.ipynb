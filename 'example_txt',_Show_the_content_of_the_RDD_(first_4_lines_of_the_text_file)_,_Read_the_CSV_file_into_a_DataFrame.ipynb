{
  "nbformat": 4,
  "nbformat_minor": 0,
  "metadata": {
    "colab": {
      "provenance": []
    },
    "kernelspec": {
      "name": "python3",
      "display_name": "Python 3"
    },
    "language_info": {
      "name": "python"
    }
  },
  "cells": [
    {
      "cell_type": "code",
      "execution_count": 4,
      "metadata": {
        "colab": {
          "base_uri": "https://localhost:8080/"
        },
        "id": "GneZLYk90zCL",
        "outputId": "2fe87b29-de51-43c0-fb3b-075d1ba467d6"
      },
      "outputs": [
        {
          "output_type": "stream",
          "name": "stdout",
          "text": [
            "First 4 lines from sample_text.txt:\n",
            "This is line one.\n",
            "This is line two.\n",
            "This is line three.\n",
            "CSV DataFrame:\n",
            "+-------+---+\n",
            "|   name|age|\n",
            "+-------+---+\n",
            "|  Alice| 21|\n",
            "|    Bob| 22|\n",
            "|Charlie| 23|\n",
            "+-------+---+\n",
            "\n"
          ]
        }
      ],
      "source": [
        "from pyspark.sql import SparkSession\n",
        "\n",
        "# Step 1: Initialize Spark Session\n",
        "spark = SparkSession.builder.appName(\"RDD_and_CSV_Example\").getOrCreate()\n",
        "\n",
        "# Step 2: Read 'example.txt' into an RDD\n",
        "rdd = spark.sparkContext.textFile(\"sample_text.txt\")\n",
        "\n",
        "# Step 3: Show the first 4 lines of the RDD\n",
        "print(\"First 4 lines from sample_text.txt:\")\n",
        "for line in rdd.take(4):\n",
        "    print(line)\n",
        "\n",
        "# Step 4: Read a CSV file into a DataFrame\n",
        "df = spark.read.option(\"header\", True).csv(\"sample_csv.csv\")\n",
        "\n",
        "# Step 5: Show the CSV DataFrame\n",
        "print(\"CSV DataFrame:\")\n",
        "df.show()\n",
        "\n",
        "# Stop Spark session\n",
        "spark.stop()\n"
      ]
    }
  ]
}