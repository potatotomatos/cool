{
  "nbformat": 4,
  "nbformat_minor": 0,
  "metadata": {
    "colab": {
      "provenance": []
    },
    "kernelspec": {
      "name": "python3",
      "display_name": "Python 3"
    },
    "language_info": {
      "name": "python"
    }
  },
  "cells": [
    {
      "cell_type": "code",
      "execution_count": 1,
      "metadata": {
        "id": "AyNvTXckcEoV"
      },
      "outputs": [],
      "source": [
        "from pyspark.sql import SparkSession\n",
        "from pyspark.sql.functions import *\n",
        "from pyspark.sql.window import Window\n",
        "\n",
        "spark = SparkSession.builder.appName(\"Spark SQL Advanced Functions\").getOrCreate()\n"
      ]
    },
    {
      "cell_type": "code",
      "source": [
        "data = [\n",
        "    (\"Alice\", \"Math\", 90),\n",
        "    (\"Alice\", \"Science\", 85),\n",
        "    (\"Bob\", \"Math\", 70),\n",
        "    (\"Bob\", \"Science\", 80),\n",
        "    (\"Charlie\", \"Math\", 95),\n",
        "    (\"Charlie\", \"Science\", 91)\n",
        "]\n",
        "\n",
        "columns = [\"name\", \"subject\", \"score\"]\n",
        "\n",
        "df = spark.createDataFrame(data, columns)\n",
        "df.show()\n"
      ],
      "metadata": {
        "colab": {
          "base_uri": "https://localhost:8080/"
        },
        "id": "mUpvms6DcJg_",
        "outputId": "288bf748-8d8b-490e-ee58-d3a4e6a45f90"
      },
      "execution_count": 2,
      "outputs": [
        {
          "output_type": "stream",
          "name": "stdout",
          "text": [
            "+-------+-------+-----+\n",
            "|   name|subject|score|\n",
            "+-------+-------+-----+\n",
            "|  Alice|   Math|   90|\n",
            "|  Alice|Science|   85|\n",
            "|    Bob|   Math|   70|\n",
            "|    Bob|Science|   80|\n",
            "|Charlie|   Math|   95|\n",
            "|Charlie|Science|   91|\n",
            "+-------+-------+-----+\n",
            "\n"
          ]
        }
      ]
    },
    {
      "cell_type": "code",
      "source": [
        "# Sort by name ascending and score descending\n",
        "df_sorted = df.orderBy(\"name\", col(\"score\").desc())\n",
        "df_sorted.show()\n"
      ],
      "metadata": {
        "colab": {
          "base_uri": "https://localhost:8080/"
        },
        "id": "VFjLAkDncKHl",
        "outputId": "92a22a02-a0dd-40ee-b736-51ed22c1ec70"
      },
      "execution_count": 3,
      "outputs": [
        {
          "output_type": "stream",
          "name": "stdout",
          "text": [
            "+-------+-------+-----+\n",
            "|   name|subject|score|\n",
            "+-------+-------+-----+\n",
            "|  Alice|   Math|   90|\n",
            "|  Alice|Science|   85|\n",
            "|    Bob|Science|   80|\n",
            "|    Bob|   Math|   70|\n",
            "|Charlie|   Math|   95|\n",
            "|Charlie|Science|   91|\n",
            "+-------+-------+-----+\n",
            "\n"
          ]
        }
      ]
    },
    {
      "cell_type": "code",
      "source": [
        "df_agg = df.groupBy(\"name\").agg(\n",
        "    count(\"*\").alias(\"total_subjects\"),\n",
        "    avg(\"score\").alias(\"average_score\"),\n",
        "    sum(\"score\").alias(\"total_score\"),\n",
        "    max(\"score\").alias(\"max_score\"),\n",
        "    min(\"score\").alias(\"min_score\")\n",
        ")\n",
        "df_agg.show()\n"
      ],
      "metadata": {
        "colab": {
          "base_uri": "https://localhost:8080/"
        },
        "id": "s_bchdI_cMjW",
        "outputId": "747f2899-d5c4-4c31-bc41-fbdfa374e97f"
      },
      "execution_count": 4,
      "outputs": [
        {
          "output_type": "stream",
          "name": "stdout",
          "text": [
            "+-------+--------------+-------------+-----------+---------+---------+\n",
            "|   name|total_subjects|average_score|total_score|max_score|min_score|\n",
            "+-------+--------------+-------------+-----------+---------+---------+\n",
            "|    Bob|             2|         75.0|        150|       80|       70|\n",
            "|  Alice|             2|         87.5|        175|       90|       85|\n",
            "|Charlie|             2|         93.0|        186|       95|       91|\n",
            "+-------+--------------+-------------+-----------+---------+---------+\n",
            "\n"
          ]
        }
      ]
    },
    {
      "cell_type": "code",
      "source": [
        "window_spec = Window.partitionBy(\"name\").orderBy(\"score\")\n",
        "\n",
        "df_window = df.withColumn(\"rank\", rank().over(window_spec)) \\\n",
        "              .withColumn(\"dense_rank\", dense_rank().over(window_spec)) \\\n",
        "              .withColumn(\"row_number\", row_number().over(window_spec)) \\\n",
        "              .withColumn(\"avg_score_over\", avg(\"score\").over(window_spec))\n",
        "\n",
        "df_window.show()\n"
      ],
      "metadata": {
        "colab": {
          "base_uri": "https://localhost:8080/"
        },
        "id": "eWg3poP0cOZV",
        "outputId": "1f3c4f4b-f21c-4afe-adb8-ca3064221c71"
      },
      "execution_count": 5,
      "outputs": [
        {
          "output_type": "stream",
          "name": "stdout",
          "text": [
            "+-------+-------+-----+----+----------+----------+--------------+\n",
            "|   name|subject|score|rank|dense_rank|row_number|avg_score_over|\n",
            "+-------+-------+-----+----+----------+----------+--------------+\n",
            "|  Alice|Science|   85|   1|         1|         1|          85.0|\n",
            "|  Alice|   Math|   90|   2|         2|         2|          87.5|\n",
            "|    Bob|   Math|   70|   1|         1|         1|          70.0|\n",
            "|    Bob|Science|   80|   2|         2|         2|          75.0|\n",
            "|Charlie|Science|   91|   1|         1|         1|          91.0|\n",
            "|Charlie|   Math|   95|   2|         2|         2|          93.0|\n",
            "+-------+-------+-----+----+----------+----------+--------------+\n",
            "\n"
          ]
        }
      ]
    },
    {
      "cell_type": "code",
      "source": [
        "json_data = [\n",
        "    ('{\"name\":\"Alice\",\"age\":21,\"city\":\"Delhi\"}',),\n",
        "    ('{\"name\":\"Bob\",\"age\":22,\"city\":\"Mumbai\"}',),\n",
        "    ('{\"name\":\"Charlie\",\"age\":23,\"city\":\"Chennai\"}',)\n",
        "]\n",
        "\n",
        "json_df = spark.createDataFrame(json_data, [\"json_string\"])\n",
        "\n",
        "# Parse JSON string into columns\n",
        "df_json = json_df.select(\n",
        "    from_json(\"json_string\", \"name STRING, age INT, city STRING\").alias(\"parsed\")\n",
        ").select(\"parsed.*\")\n",
        "\n",
        "df_json.show()\n"
      ],
      "metadata": {
        "colab": {
          "base_uri": "https://localhost:8080/"
        },
        "id": "6ZZshmVGcQDG",
        "outputId": "ce3b2765-2d04-4007-e5c4-e6368192b58b"
      },
      "execution_count": 6,
      "outputs": [
        {
          "output_type": "stream",
          "name": "stdout",
          "text": [
            "+-------+---+-------+\n",
            "|   name|age|   city|\n",
            "+-------+---+-------+\n",
            "|  Alice| 21|  Delhi|\n",
            "|    Bob| 22| Mumbai|\n",
            "|Charlie| 23|Chennai|\n",
            "+-------+---+-------+\n",
            "\n"
          ]
        }
      ]
    }
  ]
}