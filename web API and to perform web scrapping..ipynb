{
 "cells": [
  {
   "cell_type": "code",
   "execution_count": 1,
   "id": "3e5af151-97b2-4a2e-8cca-fbe5fde9a5d3",
   "metadata": {},
   "outputs": [],
   "source": [
    "import requests"
   ]
  },
  {
   "cell_type": "code",
   "execution_count": 2,
   "id": "48390eb0-45c3-4bac-bf83-d590428f4a33",
   "metadata": {},
   "outputs": [],
   "source": [
    "# URL of the public API\n",
    "url = \"https://jsonplaceholder.typicode.com/posts\""
   ]
  },
  {
   "cell_type": "code",
   "execution_count": 3,
   "id": "c2b1edba-869a-4f92-91fd-8623f804e43d",
   "metadata": {},
   "outputs": [],
   "source": [
    "# Send GET request\n",
    "response = requests.get(url)\n"
   ]
  },
  {
   "cell_type": "code",
   "execution_count": 4,
   "id": "5ae7c24b-ba54-4a37-af28-f0f44163fadd",
   "metadata": {},
   "outputs": [
    {
     "name": "stdout",
     "output_type": "stream",
     "text": [
      "Fetched 100 posts.\n",
      "Sample Post:\n",
      "{'userId': 1, 'id': 1, 'title': 'sunt aut facere repellat provident occaecati excepturi optio reprehenderit', 'body': 'quia et suscipit\\nsuscipit recusandae consequuntur expedita et cum\\nreprehenderit molestiae ut ut quas totam\\nnostrum rerum est autem sunt rem eveniet architecto'}\n"
     ]
    }
   ],
   "source": [
    "# Check for successful response\n",
    "if response.status_code == 200:\n",
    "    data = response.json()  # Parse JSON data\n",
    "    print(\"Fetched\", len(data), \"posts.\")\n",
    "    print(\"Sample Post:\")\n",
    "    print(data[0])\n",
    "else:\n",
    "    print(\"Failed to retrieve data:\", response.status_code)"
   ]
  },
  {
   "cell_type": "code",
   "execution_count": 5,
   "id": "92e4f86b-d567-4b30-8152-077ab41e2986",
   "metadata": {},
   "outputs": [],
   "source": [
    "import requests\n",
    "from bs4 import BeautifulSoup"
   ]
  },
  {
   "cell_type": "code",
   "execution_count": 6,
   "id": "032e6594-bc1e-4c81-8de4-b409775b4755",
   "metadata": {},
   "outputs": [],
   "source": [
    "# URL of the site to scrape\n",
    "url = \"http://books.toscrape.com/\""
   ]
  },
  {
   "cell_type": "code",
   "execution_count": 7,
   "id": "c213ce42-5c50-4695-b830-bbef1aa92294",
   "metadata": {},
   "outputs": [],
   "source": [
    "# Send GET request\n",
    "response = requests.get(url)"
   ]
  },
  {
   "cell_type": "code",
   "execution_count": 8,
   "id": "c2e22c42-38a4-45aa-bbdf-4e52b7844103",
   "metadata": {},
   "outputs": [],
   "source": [
    "# Parse HTML content\n",
    "soup = BeautifulSoup(response.text, 'html.parser')"
   ]
  },
  {
   "cell_type": "code",
   "execution_count": 9,
   "id": "d567fc88-b251-40a0-9650-5967bfc53e64",
   "metadata": {},
   "outputs": [],
   "source": [
    "# Find all books\n",
    "books = soup.find_all('article', class_='product_pod')"
   ]
  },
  {
   "cell_type": "code",
   "execution_count": 10,
   "id": "73d942cd-8ecc-4c2b-b75e-7d1fe6934f56",
   "metadata": {},
   "outputs": [
    {
     "name": "stdout",
     "output_type": "stream",
     "text": [
      "Top Books on First Page:\n",
      "\n",
      "A Light in the Attic - Â£51.77\n",
      "Tipping the Velvet - Â£53.74\n",
      "Soumission - Â£50.10\n",
      "Sharp Objects - Â£47.82\n",
      "Sapiens: A Brief History of Humankind - Â£54.23\n",
      "The Requiem Red - Â£22.65\n",
      "The Dirty Little Secrets of Getting Your Dream Job - Â£33.34\n",
      "The Coming Woman: A Novel Based on the Life of the Infamous Feminist, Victoria Woodhull - Â£17.93\n",
      "The Boys in the Boat: Nine Americans and Their Epic Quest for Gold at the 1936 Berlin Olympics - Â£22.60\n",
      "The Black Maria - Â£52.15\n",
      "Starving Hearts (Triangular Trade Trilogy, #1) - Â£13.99\n",
      "Shakespeare's Sonnets - Â£20.66\n",
      "Set Me Free - Â£17.46\n",
      "Scott Pilgrim's Precious Little Life (Scott Pilgrim #1) - Â£52.29\n",
      "Rip it Up and Start Again - Â£35.02\n",
      "Our Band Could Be Your Life: Scenes from the American Indie Underground, 1981-1991 - Â£57.25\n",
      "Olio - Â£23.88\n",
      "Mesaerion: The Best Science Fiction Stories 1800-1849 - Â£37.59\n",
      "Libertarianism for Beginners - Â£51.33\n",
      "It's Only the Himalayas - Â£45.17\n"
     ]
    }
   ],
   "source": [
    "print(\"Top Books on First Page:\\n\")\n",
    "for book in books:\n",
    "    title = book.h3.a['title']\n",
    "    price = book.find('p', class_='price_color').text\n",
    "    print(f\"{title} - {price}\")"
   ]
  },
  {
   "cell_type": "code",
   "execution_count": null,
   "id": "37afe3f0-9962-4472-b6b6-1164a4dfd6f1",
   "metadata": {},
   "outputs": [],
   "source": []
  }
 ],
 "metadata": {
  "kernelspec": {
   "display_name": "Python 3 (ipykernel)",
   "language": "python",
   "name": "python3"
  },
  "language_info": {
   "codemirror_mode": {
    "name": "ipython",
    "version": 3
   },
   "file_extension": ".py",
   "mimetype": "text/x-python",
   "name": "python",
   "nbconvert_exporter": "python",
   "pygments_lexer": "ipython3",
   "version": "3.13.0"
  }
 },
 "nbformat": 4,
 "nbformat_minor": 5
}
