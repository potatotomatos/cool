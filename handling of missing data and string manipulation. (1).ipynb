{
 "cells": [
  {
   "cell_type": "code",
   "execution_count": 1,
   "id": "536406e0-1ad5-491f-afc7-ff8c49773a8b",
   "metadata": {},
   "outputs": [],
   "source": [
    "import pandas as pd"
   ]
  },
  {
   "cell_type": "code",
   "execution_count": 2,
   "id": "b6418002-7e45-46e8-a9fd-fdcdd854dd0b",
   "metadata": {},
   "outputs": [],
   "source": [
    "# Step 1: Load dataset\n",
    "df = pd.read_csv(\"netflix_titles.csv\")"
   ]
  },
  {
   "cell_type": "code",
   "execution_count": 3,
   "id": "67307469-857f-4dc9-b768-d0f15cc9320c",
   "metadata": {},
   "outputs": [
    {
     "name": "stdout",
     "output_type": "stream",
     "text": [
      "Initial Missing Data:\n",
      " show_id            0\n",
      "type               0\n",
      "title              0\n",
      "director        1969\n",
      "cast             570\n",
      "country          476\n",
      "date_added        11\n",
      "release_year       0\n",
      "rating            10\n",
      "duration           0\n",
      "listed_in          0\n",
      "description        0\n",
      "dtype: int64\n"
     ]
    }
   ],
   "source": [
    "# Step 2: Show initial missing data summary\n",
    "print(\"Initial Missing Data:\\n\", df.isnull().sum())"
   ]
  },
  {
   "cell_type": "code",
   "execution_count": 4,
   "id": "55bf7eae-64f8-4f69-8245-cdd5b59d41f5",
   "metadata": {},
   "outputs": [
    {
     "name": "stderr",
     "output_type": "stream",
     "text": [
      "C:\\Users\\Admin\\AppData\\Local\\Temp\\ipykernel_12876\\1511565975.py:3: FutureWarning: A value is trying to be set on a copy of a DataFrame or Series through chained assignment using an inplace method.\n",
      "The behavior will change in pandas 3.0. This inplace method will never work because the intermediate object on which we are setting values always behaves as a copy.\n",
      "\n",
      "For example, when doing 'df[col].method(value, inplace=True)', try using 'df.method({col: value}, inplace=True)' or df[col] = df[col].method(value) instead, to perform the operation inplace on the original object.\n",
      "\n",
      "\n",
      "  df['country'].fillna('Unknown', inplace=True)\n"
     ]
    }
   ],
   "source": [
    "# Step 3: Handle Missing Data\n",
    "# Fill missing 'country' with 'Unknown'\n",
    "df['country'].fillna('Unknown', inplace=True)\n"
   ]
  },
  {
   "cell_type": "code",
   "execution_count": 5,
   "id": "767cfb90-c85c-4327-ba8f-bf973f23e44a",
   "metadata": {},
   "outputs": [
    {
     "name": "stderr",
     "output_type": "stream",
     "text": [
      "C:\\Users\\Admin\\AppData\\Local\\Temp\\ipykernel_12876\\2254834827.py:2: FutureWarning: A value is trying to be set on a copy of a DataFrame or Series through chained assignment using an inplace method.\n",
      "The behavior will change in pandas 3.0. This inplace method will never work because the intermediate object on which we are setting values always behaves as a copy.\n",
      "\n",
      "For example, when doing 'df[col].method(value, inplace=True)', try using 'df.method({col: value}, inplace=True)' or df[col] = df[col].method(value) instead, to perform the operation inplace on the original object.\n",
      "\n",
      "\n",
      "  df['rating'].fillna('Not Rated', inplace=True)\n"
     ]
    }
   ],
   "source": [
    "# Fill missing 'rating' with 'Not Rated'\n",
    "df['rating'].fillna('Not Rated', inplace=True)\n"
   ]
  },
  {
   "cell_type": "code",
   "execution_count": 6,
   "id": "b85486a5-263e-43d8-806e-5a2f004b1b22",
   "metadata": {},
   "outputs": [],
   "source": [
    "# Drop rows where 'title' is missing (title is critical)\n",
    "df.dropna(subset=['title'], inplace=True)\n"
   ]
  },
  {
   "cell_type": "code",
   "execution_count": 7,
   "id": "7369a053-39d2-42ad-a877-0b68b88d3e17",
   "metadata": {},
   "outputs": [],
   "source": [
    "# Step 4: String Manipulation Examples\n",
    "\n",
    "# Example 1: Convert all titles to lowercase\n",
    "df['title_lower'] = df['title'].str.lower()"
   ]
  },
  {
   "cell_type": "code",
   "execution_count": 8,
   "id": "f9cadeb2-ab62-49fb-b533-6936d444f3db",
   "metadata": {},
   "outputs": [],
   "source": [
    "# Example 2: Extract year from 'date_added'\n",
    "df['date_added'] = df['date_added'].astype(str).str.strip()\n",
    "df['year_added'] = df['date_added'].str[-4:]"
   ]
  },
  {
   "cell_type": "code",
   "execution_count": 9,
   "id": "9e49aca9-9665-4379-9958-7b8be151b5e9",
   "metadata": {},
   "outputs": [],
   "source": [
    "# Example 3: Check if the description contains the word 'love'\n",
    "df['has_love'] = df['description'].str.contains('love', case=False, na=False)\n"
   ]
  },
  {
   "cell_type": "code",
   "execution_count": 10,
   "id": "361d4dd5-22fc-4c59-9210-fc73463361d3",
   "metadata": {},
   "outputs": [],
   "source": [
    "# Example 4: Remove commas from 'listed_in' (genre field)\n",
    "df['cleaned_genre'] = df['listed_in'].str.replace(',', '', regex=False)"
   ]
  },
  {
   "cell_type": "code",
   "execution_count": 11,
   "id": "8acc34db-53d4-4638-ad95-f8104a1f4356",
   "metadata": {},
   "outputs": [],
   "source": [
    "# Example 5: Split 'director' names into lists\n",
    "df['directors_list'] = df['director'].astype(str).str.split(',')"
   ]
  },
  {
   "cell_type": "code",
   "execution_count": 12,
   "id": "30eb415a-d722-4c68-852f-282a687f7e45",
   "metadata": {},
   "outputs": [
    {
     "name": "stdout",
     "output_type": "stream",
     "text": [
      "\n",
      "Sample Cleaned Data:\n",
      "                                      title  \\\n",
      "0  Norm of the North: King Sized Adventure   \n",
      "1               Jandino: Whatever it Takes   \n",
      "2                       Transformers Prime   \n",
      "3         Transformers: Robots in Disguise   \n",
      "4                             #realityhigh   \n",
      "\n",
      "                                    country    rating  \\\n",
      "0  United States, India, South Korea, China     TV-PG   \n",
      "1                            United Kingdom     TV-MA   \n",
      "2                             United States  TV-Y7-FV   \n",
      "3                             United States     TV-Y7   \n",
      "4                             United States     TV-14   \n",
      "\n",
      "                               title_lower year_added  has_love  \n",
      "0  norm of the north: king sized adventure       2019     False  \n",
      "1               jandino: whatever it takes       2016     False  \n",
      "2                       transformers prime       2018     False  \n",
      "3         transformers: robots in disguise       2018     False  \n",
      "4                             #realityhigh       2017     False  \n"
     ]
    }
   ],
   "source": [
    "# Step 5: Final Preview\n",
    "print(\"\\nSample Cleaned Data:\\n\", df[['title', 'country', 'rating', 'title_lower', 'year_added', 'has_love']].head())"
   ]
  },
  {
   "cell_type": "code",
   "execution_count": null,
   "id": "74fb22f8-2ad0-4b6d-bb18-83504c36bb97",
   "metadata": {},
   "outputs": [],
   "source": []
  }
 ],
 "metadata": {
  "kernelspec": {
   "display_name": "Python 3 (ipykernel)",
   "language": "python",
   "name": "python3"
  },
  "language_info": {
   "codemirror_mode": {
    "name": "ipython",
    "version": 3
   },
   "file_extension": ".py",
   "mimetype": "text/x-python",
   "name": "python",
   "nbconvert_exporter": "python",
   "pygments_lexer": "ipython3",
   "version": "3.13.0"
  }
 },
 "nbformat": 4,
 "nbformat_minor": 5
}
