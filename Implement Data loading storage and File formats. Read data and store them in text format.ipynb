{
 "cells": [
  {
   "cell_type": "code",
   "execution_count": 1,
   "id": "f6e39822-e6de-4993-a0f8-5e6798cdbce2",
   "metadata": {},
   "outputs": [],
   "source": [
    "import pandas as pd"
   ]
  },
  {
   "cell_type": "code",
   "execution_count": 3,
   "id": "c7fb3e5e-8a0c-41b0-b4c5-4d8cca0df549",
   "metadata": {},
   "outputs": [],
   "source": [
    "data = pd.read_csv('Downloads/data.csv')"
   ]
  },
  {
   "cell_type": "code",
   "execution_count": 4,
   "id": "72447833-5f09-4d29-a7a5-f39a2608e02b",
   "metadata": {},
   "outputs": [
    {
     "name": "stdout",
     "output_type": "stream",
     "text": [
      "Data Loaded from CSV:\n"
     ]
    }
   ],
   "source": [
    "print(\"Data Loaded from CSV:\")"
   ]
  },
  {
   "cell_type": "code",
   "execution_count": 5,
   "id": "8fa0191b-ed65-4235-a6d4-19065fcdc948",
   "metadata": {},
   "outputs": [
    {
     "name": "stdout",
     "output_type": "stream",
     "text": [
      "                               Link\n",
      "0                                 #\n",
      "1                                 #\n",
      "2              /account/login?ret=/\n",
      "3  /account/login?signup=true&ret=/\n",
      "4  /account/?rd=0&link=home_account\n"
     ]
    }
   ],
   "source": [
    "print(data.head())"
   ]
  },
  {
   "cell_type": "code",
   "execution_count": 6,
   "id": "12af4c4b-513c-4509-b515-0f6e7c9af644",
   "metadata": {},
   "outputs": [],
   "source": [
    "text_data = data.to_string(index=False)"
   ]
  },
  {
   "cell_type": "code",
   "execution_count": 9,
   "id": "9a90b63b-4575-4f12-a07e-915c33b90045",
   "metadata": {},
   "outputs": [],
   "source": [
    "# Save the data to a text file\n",
    "with open('Downloads/output_data.txt', 'w') as file:\n",
    "    file.write(text_data)"
   ]
  },
  {
   "cell_type": "code",
   "execution_count": 10,
   "id": "d751efef-aaf4-4778-8801-0ff4d9cb1989",
   "metadata": {},
   "outputs": [
    {
     "name": "stdout",
     "output_type": "stream",
     "text": [
      "\n",
      "Data has been saved to 'output_data.txt' in text format.\n"
     ]
    }
   ],
   "source": [
    "print(\"\\nData has been saved to 'output_data.txt' in text format.\")"
   ]
  },
  {
   "cell_type": "code",
   "execution_count": null,
   "id": "5bfa2790-8036-4870-9e60-0b5228a0fa1c",
   "metadata": {},
   "outputs": [],
   "source": []
  }
 ],
 "metadata": {
  "kernelspec": {
   "display_name": "Python 3 (ipykernel)",
   "language": "python",
   "name": "python3"
  },
  "language_info": {
   "codemirror_mode": {
    "name": "ipython",
    "version": 3
   },
   "file_extension": ".py",
   "mimetype": "text/x-python",
   "name": "python",
   "nbconvert_exporter": "python",
   "pygments_lexer": "ipython3",
   "version": "3.13.0"
  }
 },
 "nbformat": 4,
 "nbformat_minor": 5
}
