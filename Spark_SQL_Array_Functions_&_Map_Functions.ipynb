{
  "nbformat": 4,
  "nbformat_minor": 0,
  "metadata": {
    "colab": {
      "provenance": []
    },
    "kernelspec": {
      "name": "python3",
      "display_name": "Python 3"
    },
    "language_info": {
      "name": "python"
    }
  },
  "cells": [
    {
      "cell_type": "code",
      "execution_count": 1,
      "metadata": {
        "id": "AEONdFRRbVc1"
      },
      "outputs": [],
      "source": [
        "from pyspark.sql import SparkSession\n",
        "from pyspark.sql.functions import *\n",
        "\n",
        "spark = SparkSession.builder.appName(\"Spark SQL Array & Map Functions\").getOrCreate()\n"
      ]
    },
    {
      "cell_type": "code",
      "source": [
        "data = [\n",
        "    (\"Alice\", [\"Math\", \"Science\", \"English\"], {\"Math\": 90, \"Science\": 85}),\n",
        "    (\"Bob\", [\"History\", \"Math\"], {\"History\": 88}),\n",
        "    (\"Charlie\", [\"English\", \"Science\"], {\"Science\": 91, \"English\": 89})\n",
        "]\n",
        "\n",
        "columns = [\"name\", \"subjects\", \"scores\"]\n",
        "\n",
        "df = spark.createDataFrame(data, columns)\n",
        "df.show(truncate=False)\n"
      ],
      "metadata": {
        "colab": {
          "base_uri": "https://localhost:8080/"
        },
        "id": "23AQ-m5sbk8O",
        "outputId": "1805e190-028b-4f3d-c718-d5d38de4fed3"
      },
      "execution_count": 2,
      "outputs": [
        {
          "output_type": "stream",
          "name": "stdout",
          "text": [
            "+-------+------------------------+------------------------------+\n",
            "|name   |subjects                |scores                        |\n",
            "+-------+------------------------+------------------------------+\n",
            "|Alice  |[Math, Science, English]|{Science -> 85, Math -> 90}   |\n",
            "|Bob    |[History, Math]         |{History -> 88}               |\n",
            "|Charlie|[English, Science]      |{Science -> 91, English -> 89}|\n",
            "+-------+------------------------+------------------------------+\n",
            "\n"
          ]
        }
      ]
    },
    {
      "cell_type": "code",
      "source": [
        "df_array = df.select(\n",
        "    \"name\",\n",
        "    \"subjects\",\n",
        "    size(\"subjects\").alias(\"num_subjects\"),\n",
        "    array_contains(\"subjects\", \"Math\").alias(\"has_math\"),\n",
        "    element_at(\"subjects\", 2).alias(\"second_subject\"),\n",
        "    slice(\"subjects\", 1, 2).alias(\"first_two_subjects\"),\n",
        "    explode(\"subjects\").alias(\"each_subject\")\n",
        ")\n",
        "\n",
        "df_array.show(truncate=False)\n"
      ],
      "metadata": {
        "colab": {
          "base_uri": "https://localhost:8080/"
        },
        "id": "OzjaWImUbm3W",
        "outputId": "ada46548-7fa8-4f9b-b0a8-2c045d959139"
      },
      "execution_count": 3,
      "outputs": [
        {
          "output_type": "stream",
          "name": "stdout",
          "text": [
            "+-------+------------------------+------------+--------+--------------+------------------+------------+\n",
            "|name   |subjects                |num_subjects|has_math|second_subject|first_two_subjects|each_subject|\n",
            "+-------+------------------------+------------+--------+--------------+------------------+------------+\n",
            "|Alice  |[Math, Science, English]|3           |true    |Science       |[Math, Science]   |Math        |\n",
            "|Alice  |[Math, Science, English]|3           |true    |Science       |[Math, Science]   |Science     |\n",
            "|Alice  |[Math, Science, English]|3           |true    |Science       |[Math, Science]   |English     |\n",
            "|Bob    |[History, Math]         |2           |true    |Math          |[History, Math]   |History     |\n",
            "|Bob    |[History, Math]         |2           |true    |Math          |[History, Math]   |Math        |\n",
            "|Charlie|[English, Science]      |2           |false   |Science       |[English, Science]|English     |\n",
            "|Charlie|[English, Science]      |2           |false   |Science       |[English, Science]|Science     |\n",
            "+-------+------------------------+------------+--------+--------------+------------------+------------+\n",
            "\n"
          ]
        }
      ]
    },
    {
      "cell_type": "code",
      "source": [
        "df_map = df.select(\n",
        "    \"name\",\n",
        "    \"scores\",\n",
        "    map_keys(\"scores\").alias(\"subjects_in_map\"),\n",
        "    map_values(\"scores\").alias(\"marks\"),\n",
        "    element_at(\"scores\", \"Math\").alias(\"math_score\")\n",
        ")\n",
        "\n",
        "df_map.show(truncate=False)\n"
      ],
      "metadata": {
        "colab": {
          "base_uri": "https://localhost:8080/"
        },
        "id": "s3O-2HBsbob3",
        "outputId": "f2c9d12e-ba4b-4db3-ae62-1ec9b1fde3c4"
      },
      "execution_count": 4,
      "outputs": [
        {
          "output_type": "stream",
          "name": "stdout",
          "text": [
            "+-------+------------------------------+------------------+--------+----------+\n",
            "|name   |scores                        |subjects_in_map   |marks   |math_score|\n",
            "+-------+------------------------------+------------------+--------+----------+\n",
            "|Alice  |{Science -> 85, Math -> 90}   |[Science, Math]   |[85, 90]|90        |\n",
            "|Bob    |{History -> 88}               |[History]         |[88]    |NULL      |\n",
            "|Charlie|{Science -> 91, English -> 89}|[Science, English]|[91, 89]|NULL      |\n",
            "+-------+------------------------------+------------------+--------+----------+\n",
            "\n"
          ]
        }
      ]
    }
  ]
}