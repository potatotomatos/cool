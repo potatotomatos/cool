{
  "nbformat": 4,
  "nbformat_minor": 0,
  "metadata": {
    "colab": {
      "provenance": []
    },
    "kernelspec": {
      "name": "python3",
      "display_name": "Python 3"
    },
    "language_info": {
      "name": "python"
    }
  },
  "cells": [
    {
      "cell_type": "code",
      "execution_count": 5,
      "metadata": {
        "id": "_H6JuLC_awcm"
      },
      "outputs": [],
      "source": [
        "from pyspark.sql import SparkSession\n",
        "from pyspark.sql.functions import *\n",
        "\n",
        "# Create Spark Session\n",
        "spark = SparkSession.builder.appName(\"Spark SQL Functions\").getOrCreate()\n"
      ]
    },
    {
      "cell_type": "code",
      "source": [
        "from datetime import datetime\n",
        "\n",
        "data = [\n",
        "    (\"alice\", \"  Hello World  \", \"2024-04-01\", \"2024-04-01 12:30:00\"),\n",
        "    (\"bob\", \"Spark SQL Functions\", \"2023-12-25\", \"2023-12-25 09:15:00\"),\n",
        "    (\"charlie\", \"Data Processing\", \"2025-01-01\", \"2025-01-01 23:59:59\")\n",
        "]\n",
        "\n",
        "columns = [\"name\", \"text\", \"date_str\", \"timestamp_str\"]\n",
        "\n",
        "df = spark.createDataFrame(data, columns)\n",
        "\n",
        "# Convert strings to proper Date and Timestamp\n",
        "df = df.withColumn(\"date\", to_date(\"date_str\", \"yyyy-MM-dd\")) \\\n",
        "       .withColumn(\"timestamp\", to_timestamp(\"timestamp_str\", \"yyyy-MM-dd HH:mm:ss\"))\n",
        "\n",
        "df.show(truncate=False)\n"
      ],
      "metadata": {
        "colab": {
          "base_uri": "https://localhost:8080/"
        },
        "id": "WnKR3T0ca1kq",
        "outputId": "3b299c86-6a13-4502-d226-dc6ff2de4dd5"
      },
      "execution_count": 6,
      "outputs": [
        {
          "output_type": "stream",
          "name": "stdout",
          "text": [
            "+-------+-------------------+----------+-------------------+----------+-------------------+\n",
            "|name   |text               |date_str  |timestamp_str      |date      |timestamp          |\n",
            "+-------+-------------------+----------+-------------------+----------+-------------------+\n",
            "|alice  |  Hello World      |2024-04-01|2024-04-01 12:30:00|2024-04-01|2024-04-01 12:30:00|\n",
            "|bob    |Spark SQL Functions|2023-12-25|2023-12-25 09:15:00|2023-12-25|2023-12-25 09:15:00|\n",
            "|charlie|Data Processing    |2025-01-01|2025-01-01 23:59:59|2025-01-01|2025-01-01 23:59:59|\n",
            "+-------+-------------------+----------+-------------------+----------+-------------------+\n",
            "\n"
          ]
        }
      ]
    },
    {
      "cell_type": "code",
      "source": [
        "df_string = df.select(\n",
        "    col(\"name\"),\n",
        "    col(\"text\"),\n",
        "    length(\"text\").alias(\"length\"),\n",
        "    trim(\"text\").alias(\"trimmed\"),\n",
        "    ltrim(\"text\").alias(\"ltrimmed\"),\n",
        "    rtrim(\"text\").alias(\"rtrimmed\"),\n",
        "    lower(\"text\").alias(\"lowercase\"),\n",
        "    upper(\"text\").alias(\"uppercase\"),\n",
        "    concat_ws(\" - \", col(\"name\"), col(\"text\")).alias(\"concatenated\"),\n",
        "    instr(\"text\", \"SQL\").alias(\"position_SQL\"),\n",
        "    locate(\"Data\", \"text\").alias(\"position_Data\"),\n",
        "    substring(\"text\", 1, 5).alias(\"substring_1_5\"),\n",
        "    regexp_replace(\"text\", \" \", \"_\").alias(\"replace_spaces\"),\n",
        "    reverse(\"text\").alias(\"reversed\")\n",
        ")\n",
        "\n",
        "df_string.show(truncate=False)\n"
      ],
      "metadata": {
        "colab": {
          "base_uri": "https://localhost:8080/"
        },
        "id": "n7VM25Qga3sm",
        "outputId": "fd862609-d7d1-4572-9be4-3cc1b696c15d"
      },
      "execution_count": 7,
      "outputs": [
        {
          "output_type": "stream",
          "name": "stdout",
          "text": [
            "+-------+-------------------+------+-------------------+-------------------+-------------------+-------------------+-------------------+-------------------------+------------+-------------+-------------+-------------------+-------------------+\n",
            "|name   |text               |length|trimmed            |ltrimmed           |rtrimmed           |lowercase          |uppercase          |concatenated             |position_SQL|position_Data|substring_1_5|replace_spaces     |reversed           |\n",
            "+-------+-------------------+------+-------------------+-------------------+-------------------+-------------------+-------------------+-------------------------+------------+-------------+-------------+-------------------+-------------------+\n",
            "|alice  |  Hello World      |15    |Hello World        |Hello World        |  Hello World      |  hello world      |  HELLO WORLD      |alice -   Hello World    |0           |0            |  Hel        |__Hello_World__    |  dlroW olleH      |\n",
            "|bob    |Spark SQL Functions|19    |Spark SQL Functions|Spark SQL Functions|Spark SQL Functions|spark sql functions|SPARK SQL FUNCTIONS|bob - Spark SQL Functions|7           |0            |Spark        |Spark_SQL_Functions|snoitcnuF LQS krapS|\n",
            "|charlie|Data Processing    |15    |Data Processing    |Data Processing    |Data Processing    |data processing    |DATA PROCESSING    |charlie - Data Processing|0           |1            |Data         |Data_Processing    |gnissecorP ataD    |\n",
            "+-------+-------------------+------+-------------------+-------------------+-------------------+-------------------+-------------------+-------------------------+------------+-------------+-------------+-------------------+-------------------+\n",
            "\n"
          ]
        }
      ]
    },
    {
      "cell_type": "code",
      "source": [
        "df_date = df.select(\n",
        "    \"name\",\n",
        "    \"date\",\n",
        "    \"timestamp\",\n",
        "    year(\"date\").alias(\"year\"),\n",
        "    month(\"date\").alias(\"month\"),\n",
        "    dayofmonth(\"date\").alias(\"day\"),\n",
        "    dayofweek(\"date\").alias(\"weekday\"),\n",
        "    dayofyear(\"date\").alias(\"day_of_year\"),\n",
        "    weekofyear(\"date\").alias(\"week\"),\n",
        "    current_date().alias(\"current_date\"),\n",
        "    datediff(current_date(), \"date\").alias(\"days_diff\"),\n",
        "    add_months(\"date\", 2).alias(\"plus_2_months\"),\n",
        "    date_add(\"date\", 7).alias(\"plus_7_days\"),\n",
        "    date_sub(\"date\", 5).alias(\"minus_5_days\"),\n",
        "    hour(\"timestamp\").alias(\"hour\"),\n",
        "    minute(\"timestamp\").alias(\"minute\"),\n",
        "    second(\"timestamp\").alias(\"second\"),\n",
        "    current_timestamp().alias(\"now\")\n",
        ")\n",
        "\n",
        "df_date.show(truncate=False)\n"
      ],
      "metadata": {
        "colab": {
          "base_uri": "https://localhost:8080/"
        },
        "id": "2dDbfDpLbCLI",
        "outputId": "2d4a17d1-0905-4c12-be70-1dbf24b8db66"
      },
      "execution_count": 8,
      "outputs": [
        {
          "output_type": "stream",
          "name": "stdout",
          "text": [
            "+-------+----------+-------------------+----+-----+---+-------+-----------+----+------------+---------+-------------+-----------+------------+----+------+------+--------------------------+\n",
            "|name   |date      |timestamp          |year|month|day|weekday|day_of_year|week|current_date|days_diff|plus_2_months|plus_7_days|minus_5_days|hour|minute|second|now                       |\n",
            "+-------+----------+-------------------+----+-----+---+-------+-----------+----+------------+---------+-------------+-----------+------------+----+------+------+--------------------------+\n",
            "|alice  |2024-04-01|2024-04-01 12:30:00|2024|4    |1  |2      |92         |14  |2025-04-14  |378      |2024-06-01   |2024-04-08 |2024-03-27  |12  |30    |0     |2025-04-14 08:30:57.500074|\n",
            "|bob    |2023-12-25|2023-12-25 09:15:00|2023|12   |25 |2      |359        |52  |2025-04-14  |476      |2024-02-25   |2024-01-01 |2023-12-20  |9   |15    |0     |2025-04-14 08:30:57.500074|\n",
            "|charlie|2025-01-01|2025-01-01 23:59:59|2025|1    |1  |4      |1          |1   |2025-04-14  |103      |2025-03-01   |2025-01-08 |2024-12-27  |23  |59    |59    |2025-04-14 08:30:57.500074|\n",
            "+-------+----------+-------------------+----+-----+---+-------+-----------+----+------------+---------+-------------+-----------+------------+----+------+------+--------------------------+\n",
            "\n"
          ]
        }
      ]
    }
  ]
}